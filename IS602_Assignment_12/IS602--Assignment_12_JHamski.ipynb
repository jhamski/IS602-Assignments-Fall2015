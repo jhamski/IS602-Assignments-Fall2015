{
 "cells": [
  {
   "cell_type": "markdown",
   "metadata": {},
   "source": [
    "# IS602 -- Assignment 11 -- James Hamski"
   ]
  },
  {
   "cell_type": "markdown",
   "metadata": {},
   "source": [
    "1. Take your solution from Homework 11 and complete the Monte Carlo step (step 6) in parallel.  There are many ways you can go about doing this, and I'm not looking for anything too complicated.  If you can get multiple processes crunching the data together, that is great.  Using IPython’s built-in tools would be a great method\n",
    "2. Compare the timing for your solution in homework 11 and this parallel solution.  This is similar to what you did in homeworks 6 and 7.  Ideally, you'll see some speed improvement.  The amount you see will largely be based the capabilities of your hardware, and less on the software implementation.  There is additional overhead for running an operation in parallel, so speed gains will be more obvious with a larger number of calculations."
   ]
  },
  {
   "cell_type": "markdown",
   "metadata": {},
   "source": [
    "*Python Modules*"
   ]
  },
  {
   "cell_type": "code",
   "execution_count": 66,
   "metadata": {
    "collapsed": false
   },
   "outputs": [
    {
     "name": "stdout",
     "output_type": "stream",
     "text": [
      "Populating the interactive namespace from numpy and matplotlib\n"
     ]
    }
   ],
   "source": [
    "%pylab inline\n",
    "\n",
    "import pandas as pd\n",
    "import numpy as np\n",
    "import matplotlib.pyplot as plt\n",
    "matplotlib.style.use('ggplot')\n",
    "import ipyparallel"
   ]
  },
  {
   "cell_type": "code",
   "execution_count": 2,
   "metadata": {
    "collapsed": false
   },
   "outputs": [],
   "source": [
    "! ipcluster start -n 4 --daemon"
   ]
  },
  {
   "cell_type": "markdown",
   "metadata": {},
   "source": [
    "*Data Import and Formatting* "
   ]
  },
  {
   "cell_type": "code",
   "execution_count": 3,
   "metadata": {
    "collapsed": false
   },
   "outputs": [],
   "source": [
    "apple = pd.read_csv('apple.2011.csv', header=0, na_values='XXXXX', parse_dates=True)\n",
    "apple.columns = ['Date', 'Last', 'PercentChange']"
   ]
  },
  {
   "cell_type": "code",
   "execution_count": 4,
   "metadata": {
    "collapsed": true
   },
   "outputs": [],
   "source": [
    "apple['Date'] = pd.to_datetime(apple['Date'])"
   ]
  },
  {
   "cell_type": "markdown",
   "metadata": {},
   "source": [
    "*Generate random numbers with the same probability distribution as the Percent Change column*"
   ]
  },
  {
   "cell_type": "code",
   "execution_count": 5,
   "metadata": {
    "collapsed": true
   },
   "outputs": [],
   "source": [
    "apple_mean_df = apple.mean()\n",
    "apple_std_df = apple.std()"
   ]
  },
  {
   "cell_type": "code",
   "execution_count": 6,
   "metadata": {
    "collapsed": false
   },
   "outputs": [
    {
     "name": "stdout",
     "output_type": "stream",
     "text": [
      "0.000957355207171\n"
     ]
    }
   ],
   "source": [
    "apple_mean = apple_mean_df['PercentChange']\n",
    "print apple_mean"
   ]
  },
  {
   "cell_type": "code",
   "execution_count": 7,
   "metadata": {
    "collapsed": false
   },
   "outputs": [
    {
     "name": "stdout",
     "output_type": "stream",
     "text": [
      "0.0165205562984\n"
     ]
    }
   ],
   "source": [
    "apple_std = apple_std_df['PercentChange']\n",
    "print apple_std"
   ]
  },
  {
   "cell_type": "code",
   "execution_count": 8,
   "metadata": {
    "collapsed": false
   },
   "outputs": [],
   "source": [
    "def GeneratePercentChange(mean, std):\n",
    "    return np.random.normal(loc=mean, scale=std, size=20)"
   ]
  },
  {
   "cell_type": "code",
   "execution_count": 9,
   "metadata": {
    "collapsed": false
   },
   "outputs": [],
   "source": [
    "def PriceQuote(start, PercentChange):\n",
    "    price = start\n",
    "    for i in PercentChange:\n",
    "        price = price+(price*i)\n",
    "    return price"
   ]
  },
  {
   "cell_type": "markdown",
   "metadata": {},
   "source": [
    "Value at Risk with 99% confidence:"
   ]
  },
  {
   "cell_type": "code",
   "execution_count": 48,
   "metadata": {
    "collapsed": true
   },
   "outputs": [],
   "source": [
    "def MonteCarloSimulation(iterations):\n",
    "    prices = []\n",
    "    for i in range(0, iterations):\n",
    "        random_walk = GeneratePercentChange(apple_mean, apple_std)\n",
    "        end_price = PriceQuote(apple_start_price, random_walk)\n",
    "        prices.append(end_price)\n",
    "        \n",
    "    prices_array = np.array(prices)\n",
    "    \n",
    "    VaR_99 = np.percentile(prices_array, 1)\n",
    "    \n",
    "    return VaR_99"
   ]
  },
  {
   "cell_type": "code",
   "execution_count": 49,
   "metadata": {
    "collapsed": false
   },
   "outputs": [
    {
     "name": "stdout",
     "output_type": "stream",
     "text": [
      "346.474411205\n"
     ]
    }
   ],
   "source": [
    "iterations = 100000\n",
    "apple_start_price = int(apple['Last'].tail(1))\n",
    "print MonteCarloSimulation(iterations)"
   ]
  },
  {
   "cell_type": "code",
   "execution_count": 26,
   "metadata": {
    "collapsed": false
   },
   "outputs": [
    {
     "name": "stdout",
     "output_type": "stream",
     "text": [
      "1 loops, best of 3: 796 ms per loop\n"
     ]
    }
   ],
   "source": [
    "%timeit MonteCarloSimulation(iterations)"
   ]
  },
  {
   "cell_type": "code",
   "execution_count": 53,
   "metadata": {
    "collapsed": false
   },
   "outputs": [],
   "source": [
    "def MonteCarloSimulationComb(iterations, mean, std, start):\n",
    "    prices = []\n",
    "    for i in range(0, iterations):               \n",
    "        PercentChange = np.random.normal(loc=mean, scale=std, size=20)        \n",
    "        price = start\n",
    "        for i in PercentChange:\n",
    "            price = price+(price*i)                    \n",
    "        prices.append(price)\n",
    "        \n",
    "    prices_array = np.array(prices)\n",
    "    \n",
    "    VaR_99 = np.percentile(prices_array, 1)\n",
    "    \n",
    "    return VaR_99"
   ]
  },
  {
   "cell_type": "code",
   "execution_count": 54,
   "metadata": {
    "collapsed": false
   },
   "outputs": [
    {
     "data": {
      "text/plain": [
       "346.63373368147433"
      ]
     },
     "execution_count": 54,
     "metadata": {},
     "output_type": "execute_result"
    }
   ],
   "source": [
    "MonteCarloSimulationComb(iterations, apple_mean, apple_std, apple_start_price)"
   ]
  },
  {
   "cell_type": "code",
   "execution_count": 55,
   "metadata": {
    "collapsed": false
   },
   "outputs": [
    {
     "name": "stdout",
     "output_type": "stream",
     "text": [
      "1 loops, best of 3: 726 ms per loop\n"
     ]
    }
   ],
   "source": [
    "%timeit MonteCarloSimulationComb(iterations, apple_mean, apple_std, apple_start_price)"
   ]
  },
  {
   "cell_type": "markdown",
   "metadata": {},
   "source": [
    "## Parallel Computing Task"
   ]
  },
  {
   "cell_type": "markdown",
   "metadata": {},
   "source": [
    "First, confirm ipyparallel is working. "
   ]
  },
  {
   "cell_type": "code",
   "execution_count": 13,
   "metadata": {
    "collapsed": false
   },
   "outputs": [
    {
     "data": {
      "text/plain": [
       "['Hello World', 'Hello World', 'Hello World', 'Hello World']"
      ]
     },
     "execution_count": 13,
     "metadata": {},
     "output_type": "execute_result"
    }
   ],
   "source": [
    "from ipyparallel import Client\n",
    "c = Client()\n",
    "c.ids\n",
    "\n",
    "set([0,1,2,3])\n",
    "\n",
    "c[:].apply_sync(lambda: \"Hello World\")"
   ]
  },
  {
   "cell_type": "markdown",
   "metadata": {},
   "source": [
    "The operations will be split among four cores. Therefore, the number of iterations for each function can be divided by four. "
   ]
  },
  {
   "cell_type": "code",
   "execution_count": 87,
   "metadata": {
    "collapsed": false
   },
   "outputs": [],
   "source": [
    "iterations_parallel = 100000/4"
   ]
  },
  {
   "cell_type": "code",
   "execution_count": 88,
   "metadata": {
    "collapsed": true
   },
   "outputs": [],
   "source": [
    "def MonteCarloSimulationParallel(iterations, mean, std, start):\n",
    "    prices = []\n",
    "    for i in range(0, iterations):               \n",
    "        PercentChange = np.random.normal(loc=mean, scale=std, size=20)        \n",
    "        price = start\n",
    "        for i in PercentChange:\n",
    "            price = price+(price*i)                    \n",
    "        prices.append(price)\n",
    "        \n",
    "    prices_array = np.array(prices)\n",
    "    \n",
    "    #VaR_99 = np.percentile(prices_array, 1)\n",
    "    \n",
    "    return prices_array"
   ]
  },
  {
   "cell_type": "code",
   "execution_count": 89,
   "metadata": {
    "collapsed": false
   },
   "outputs": [
    {
     "data": {
      "text/plain": [
       "<AsyncResult: execute>"
      ]
     },
     "execution_count": 89,
     "metadata": {},
     "output_type": "execute_result"
    }
   ],
   "source": [
    "c.block = True\n",
    "dview = c.direct_view()\n",
    "dview.block = False\n",
    "\n",
    "dview.execute('import numpy as np') "
   ]
  },
  {
   "cell_type": "code",
   "execution_count": 90,
   "metadata": {
    "collapsed": false
   },
   "outputs": [],
   "source": [
    "def ParallelCalculation():\n",
    "    result_arrays = c[:].apply_sync(MonteCarloSimulationParallel, iterations_parallel, apple_mean, apple_std, apple_start_price)\n",
    "    results = np.concatenate(result_arrays)\n",
    "    VaR_99 = np.percentile(results, 1)\n",
    "    return VaR_99"
   ]
  },
  {
   "cell_type": "code",
   "execution_count": 91,
   "metadata": {
    "collapsed": false
   },
   "outputs": [
    {
     "data": {
      "text/plain": [
       "346.27347287551618"
      ]
     },
     "execution_count": 91,
     "metadata": {},
     "output_type": "execute_result"
    }
   ],
   "source": [
    "ParallelCalculation()"
   ]
  },
  {
   "cell_type": "code",
   "execution_count": 92,
   "metadata": {
    "collapsed": false
   },
   "outputs": [
    {
     "name": "stdout",
     "output_type": "stream",
     "text": [
      "1 loops, best of 3: 403 ms per loop\n"
     ]
    }
   ],
   "source": [
    "%timeit ParallelCalculation()"
   ]
  },
  {
   "cell_type": "markdown",
   "metadata": {},
   "source": [
    "Confirm that the resulting array is the same size as what was used in the non-paralellized function. "
   ]
  },
  {
   "cell_type": "code",
   "execution_count": 93,
   "metadata": {
    "collapsed": false
   },
   "outputs": [
    {
     "data": {
      "text/plain": [
       "100000"
      ]
     },
     "execution_count": 93,
     "metadata": {},
     "output_type": "execute_result"
    }
   ],
   "source": [
    "result_arrays = c[:].apply_sync(MonteCarloSimulationParallel, iterations_parallel, apple_mean, apple_std, apple_start_price)\n",
    "results = np.concatenate(result_arrays)\n",
    "results.size"
   ]
  },
  {
   "cell_type": "code",
   "execution_count": 94,
   "metadata": {
    "collapsed": false
   },
   "outputs": [
    {
     "name": "stdout",
     "output_type": "stream",
     "text": [
      "2015-12-13 11:49:38.571 [IPClusterStop] Stopping cluster [pid=447] with [signal=2]\r\n"
     ]
    }
   ],
   "source": [
    "! ipcluster stop"
   ]
  }
 ],
 "metadata": {
  "kernelspec": {
   "display_name": "Python 2",
   "language": "python",
   "name": "python2"
  },
  "language_info": {
   "codemirror_mode": {
    "name": "ipython",
    "version": 2
   },
   "file_extension": ".py",
   "mimetype": "text/x-python",
   "name": "python",
   "nbconvert_exporter": "python",
   "pygments_lexer": "ipython2",
   "version": "2.7.11"
  }
 },
 "nbformat": 4,
 "nbformat_minor": 0
}
