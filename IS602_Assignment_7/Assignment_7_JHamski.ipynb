{
 "metadata": {
  "name": "",
  "signature": "sha256:11746613d4089080f7c6048dda7e7a45cb4bda5e605b66817ae6216f189c730e"
 },
 "nbformat": 3,
 "nbformat_minor": 0,
 "worksheets": [
  {
   "cells": [
    {
     "cell_type": "heading",
     "level": 1,
     "metadata": {},
     "source": [
      "Homework #7 - Advanced Programming Techniques - James Hamski"
     ]
    },
    {
     "cell_type": "markdown",
     "metadata": {},
     "source": [
      "- Take what you did on homework 5 as a starting point (using any of the provided datasets).  Replace the regression calculation using least squares with a curve fitting approach (examples in the reading).  To start, just fit a linear equation.  Output the equation to the console.  You don't need to graph anything (we'll look at that in a couple more weeks).\n",
      "- Again, using timeit, compare the performance of your solution in homework 5 to the scipy function.  Output the results to the console.\n",
      "- (Optional)  There are other models that can be fitted to the data we have.  Try to fit other equations, like Gaussian, to the data.  Output the equation to the console."
     ]
    },
    {
     "cell_type": "code",
     "collapsed": false,
     "input": [
      "import csv\n",
      "with open('brainandbody.csv', 'rb') as f:\n",
      "    data = list(csv.reader(f))"
     ],
     "language": "python",
     "metadata": {},
     "outputs": [],
     "prompt_number": 1
    },
    {
     "cell_type": "markdown",
     "metadata": {},
     "source": [
      "['animal', 'body', 'brain']"
     ]
    },
    {
     "cell_type": "code",
     "collapsed": false,
     "input": [
      "data[0]"
     ],
     "language": "python",
     "metadata": {},
     "outputs": [
      {
       "metadata": {},
       "output_type": "pyout",
       "prompt_number": 2,
       "text": [
        "['Lesser short-tailed shrew', '0.005', '0.14']"
       ]
      }
     ],
     "prompt_number": 2
    },
    {
     "cell_type": "markdown",
     "metadata": {},
     "source": [
      "Let Body be the independent variable X and Brain be the dependent variable Y. \n",
      "\n",
      "The sum of X is:"
     ]
    },
    {
     "cell_type": "code",
     "collapsed": false,
     "input": [
      "numlist = [float(i[1]) for i in data]\n",
      "Xsum = sum(numlist)\n",
      "print(Xsum)"
     ],
     "language": "python",
     "metadata": {},
     "outputs": [
      {
       "output_type": "stream",
       "stream": "stdout",
       "text": [
        "12324.979\n"
       ]
      }
     ],
     "prompt_number": 55
    },
    {
     "cell_type": "markdown",
     "metadata": {},
     "source": [
      "The sum of Y is:"
     ]
    },
    {
     "cell_type": "code",
     "collapsed": false,
     "input": [
      "numlist = [float(i[2]) for i in data]\n",
      "Ysum = sum(numlist)\n",
      "print(Ysum)"
     ],
     "language": "python",
     "metadata": {},
     "outputs": [
      {
       "output_type": "stream",
       "stream": "stdout",
       "text": [
        "17554.32\n"
       ]
      }
     ],
     "prompt_number": 56
    },
    {
     "cell_type": "markdown",
     "metadata": {},
     "source": [
      "The sum of XY is:"
     ]
    },
    {
     "cell_type": "code",
     "collapsed": false,
     "input": [
      "numlist = [float(i[1])*float(i[2]) for i in data]\n",
      "XYsum = sum(numlist)\n",
      "print(XYsum)"
     ],
     "language": "python",
     "metadata": {},
     "outputs": [
      {
       "output_type": "stream",
       "stream": "stdout",
       "text": [
        "51154897.2937\n"
       ]
      }
     ],
     "prompt_number": 57
    },
    {
     "cell_type": "markdown",
     "metadata": {},
     "source": [
      "The mean of X is:"
     ]
    },
    {
     "cell_type": "code",
     "collapsed": false,
     "input": [
      "Xmean = Xsum / len(data)\n",
      "print(Xmean)"
     ],
     "language": "python",
     "metadata": {},
     "outputs": [
      {
       "output_type": "stream",
       "stream": "stdout",
       "text": [
        "198.789983871\n"
       ]
      }
     ],
     "prompt_number": 61
    },
    {
     "cell_type": "markdown",
     "metadata": {},
     "source": [
      "The mean of Y is:"
     ]
    },
    {
     "cell_type": "code",
     "collapsed": false,
     "input": [
      "Ymean = Ysum / len(data)\n",
      "print(Ymean)"
     ],
     "language": "python",
     "metadata": {},
     "outputs": [
      {
       "output_type": "stream",
       "stream": "stdout",
       "text": [
        "283.134193548\n"
       ]
      }
     ],
     "prompt_number": 63
    },
    {
     "cell_type": "markdown",
     "metadata": {},
     "source": [
      "Finding the slope:"
     ]
    },
    {
     "cell_type": "code",
     "collapsed": false,
     "input": [
      "XXbar = [float(i[1])-Xmean for i in data]\n",
      "XXbar_sum = sum(XXbar)\n"
     ],
     "language": "python",
     "metadata": {},
     "outputs": [
      {
       "output_type": "stream",
       "stream": "stdout",
       "text": [
        "6.36646291241e-12\n"
       ]
      }
     ],
     "prompt_number": 66
    },
    {
     "cell_type": "code",
     "collapsed": false,
     "input": [
      "YYbar = [float(i[2])-Ymean for i in data]\n",
      "YYbar_sum = sum(YYbar)\n"
     ],
     "language": "python",
     "metadata": {},
     "outputs": [
      {
       "output_type": "stream",
       "stream": "stdout",
       "text": [
        "5.45696821064e-12\n"
       ]
      }
     ],
     "prompt_number": 67
    },
    {
     "cell_type": "code",
     "collapsed": false,
     "input": [
      "slope_numerator = [((float(i[1])-Xmean) * (float(i[2])-Ymean)) for i in data]\n",
      "slope_numerator = sum(slope_numerator)\n",
      "print(slope_numerator)"
     ],
     "language": "python",
     "metadata": {},
     "outputs": [
      {
       "output_type": "stream",
       "stream": "stdout",
       "text": [
        "47665274.3041\n"
       ]
      }
     ],
     "prompt_number": 71
    },
    {
     "cell_type": "code",
     "collapsed": false,
     "input": [
      "slope_denominator = [((float(i[1])-Xmean)**2) for i in data]\n",
      "slope_denominator = sum(slope_denominator)\n",
      "print(slope_denominator)"
     ],
     "language": "python",
     "metadata": {},
     "outputs": [
      {
       "output_type": "stream",
       "stream": "stdout",
       "text": [
        "49317592.8005\n"
       ]
      }
     ],
     "prompt_number": 72
    },
    {
     "cell_type": "code",
     "collapsed": false,
     "input": [
      "slope = slope_numerator / slope_denominator\n",
      "print(slope)"
     ],
     "language": "python",
     "metadata": {},
     "outputs": [
      {
       "output_type": "stream",
       "stream": "stdout",
       "text": [
        "0.966496367673\n"
       ]
      }
     ],
     "prompt_number": 76
    },
    {
     "cell_type": "markdown",
     "metadata": {},
     "source": [
      "The b intercept is:"
     ]
    },
    {
     "cell_type": "code",
     "collapsed": false,
     "input": [
      "b_intercept = Ymean - slope*Xmean\n",
      "print(b_intercept)"
     ],
     "language": "python",
     "metadata": {},
     "outputs": [
      {
       "output_type": "stream",
       "stream": "stdout",
       "text": [
        "91.0043962074\n"
       ]
      }
     ],
     "prompt_number": 77
    },
    {
     "cell_type": "markdown",
     "metadata": {},
     "source": [
      "The resulting linear model is:\n",
      "\n",
      "$$bo = 0.966br + 91$$"
     ]
    },
    {
     "cell_type": "code",
     "collapsed": false,
     "input": [
      "from scipy import stats"
     ],
     "language": "python",
     "metadata": {},
     "outputs": [],
     "prompt_number": 11
    },
    {
     "cell_type": "code",
     "collapsed": false,
     "input": [
      "x = [float(i[1]) for i in data]\n",
      "y = [float(i[2]) for i in data]"
     ],
     "language": "python",
     "metadata": {},
     "outputs": [],
     "prompt_number": 12
    },
    {
     "cell_type": "code",
     "collapsed": false,
     "input": [
      "slope, intercept, r_value, p_value, std_err = stats.linregress(x,y)"
     ],
     "language": "python",
     "metadata": {},
     "outputs": [],
     "prompt_number": 13
    },
    {
     "cell_type": "code",
     "collapsed": false,
     "input": [
      "print(slope)"
     ],
     "language": "python",
     "metadata": {},
     "outputs": [
      {
       "output_type": "stream",
       "stream": "stdout",
       "text": [
        "0.966496367673\n"
       ]
      }
     ],
     "prompt_number": 14
    },
    {
     "cell_type": "code",
     "collapsed": false,
     "input": [
      "print(intercept)"
     ],
     "language": "python",
     "metadata": {},
     "outputs": [
      {
       "output_type": "stream",
       "stream": "stdout",
       "text": [
        "91.0043962074\n"
       ]
      }
     ],
     "prompt_number": 15
    }
   ],
   "metadata": {}
  }
 ]
}