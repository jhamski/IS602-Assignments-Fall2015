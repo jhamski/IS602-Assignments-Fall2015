{
 "cells": [
  {
   "cell_type": "markdown",
   "metadata": {},
   "source": [
    "IS602--Assignment-10--James Hamski"
   ]
  },
  {
   "cell_type": "code",
   "execution_count": 1,
   "metadata": {
    "collapsed": false
   },
   "outputs": [
    {
     "name": "stdout",
     "output_type": "stream",
     "text": [
      "Populating the interactive namespace from numpy and matplotlib\n"
     ]
    }
   ],
   "source": [
    "%pylab inline"
   ]
  },
  {
   "cell_type": "code",
   "execution_count": 2,
   "metadata": {
    "collapsed": false
   },
   "outputs": [],
   "source": [
    "import pandas as pd\n",
    "import numpy as np\n",
    "matplotlib.style.use('ggplot')"
   ]
  },
  {
   "cell_type": "markdown",
   "metadata": {},
   "source": [
    "Express the cars.data.csv data as a series of bar graphs.  The x-axis represents a feature and the y-axis is the frequency in the sample.  Do this with the 'buying', 'maint', 'safety', and 'doors' fields with one plot for each for a total of four. "
   ]
  },
  {
   "cell_type": "code",
   "execution_count": 9,
   "metadata": {
    "collapsed": false
   },
   "outputs": [
    {
     "name": "stdout",
     "output_type": "stream",
     "text": [
      "       maint  doors persons lug_boot safety acceptability\n",
      "vhigh  vhigh      2       2    small    low         unacc\n",
      "vhigh  vhigh      2       2    small    med         unacc\n",
      "vhigh  vhigh      2       2    small   high         unacc\n",
      "vhigh  vhigh      2       2      med    low         unacc\n",
      "vhigh  vhigh      2       2      med    med         unacc\n",
      "vhigh  vhigh      2       2      med   high         unacc\n",
      "vhigh  vhigh      2       2      big    low         unacc\n",
      "vhigh  vhigh      2       2      big    med         unacc\n",
      "vhigh  vhigh      2       2      big   high         unacc\n",
      "vhigh  vhigh      2       4    small    low         unacc\n",
      "vhigh  vhigh      2       4    small    med         unacc\n",
      "vhigh  vhigh      2       4    small   high         unacc\n",
      "vhigh  vhigh      2       4      med    low         unacc\n",
      "vhigh  vhigh      2       4      med    med         unacc\n",
      "vhigh  vhigh      2       4      med   high         unacc\n",
      "vhigh  vhigh      2       4      big    low         unacc\n",
      "vhigh  vhigh      2       4      big    med         unacc\n",
      "vhigh  vhigh      2       4      big   high         unacc\n",
      "vhigh  vhigh      2    more    small    low         unacc\n",
      "vhigh  vhigh      2    more    small    med         unacc\n",
      "vhigh  vhigh      2    more    small   high         unacc\n",
      "vhigh  vhigh      2    more      med    low         unacc\n",
      "vhigh  vhigh      2    more      med    med         unacc\n",
      "vhigh  vhigh      2    more      med   high         unacc\n",
      "vhigh  vhigh      2    more      big    low         unacc\n",
      "vhigh  vhigh      2    more      big    med         unacc\n",
      "vhigh  vhigh      2    more      big   high         unacc\n",
      "vhigh  vhigh      3       2    small    low         unacc\n",
      "vhigh  vhigh      3       2    small    med         unacc\n",
      "vhigh  vhigh      3       2    small   high         unacc\n",
      "...      ...    ...     ...      ...    ...           ...\n",
      "low      low      4    more      big    low         unacc\n",
      "low      low      4    more      big    med          good\n",
      "low      low      4    more      big   high         vgood\n",
      "low      low  5more       2    small    low         unacc\n",
      "low      low  5more       2    small    med         unacc\n",
      "low      low  5more       2    small   high         unacc\n",
      "low      low  5more       2      med    low         unacc\n",
      "low      low  5more       2      med    med         unacc\n",
      "low      low  5more       2      med   high         unacc\n",
      "low      low  5more       2      big    low         unacc\n",
      "low      low  5more       2      big    med         unacc\n",
      "low      low  5more       2      big   high         unacc\n",
      "low      low  5more       4    small    low         unacc\n",
      "low      low  5more       4    small    med           acc\n",
      "low      low  5more       4    small   high          good\n",
      "low      low  5more       4      med    low         unacc\n",
      "low      low  5more       4      med    med          good\n",
      "low      low  5more       4      med   high         vgood\n",
      "low      low  5more       4      big    low         unacc\n",
      "low      low  5more       4      big    med          good\n",
      "low      low  5more       4      big   high         vgood\n",
      "low      low  5more    more    small    low         unacc\n",
      "low      low  5more    more    small    med           acc\n",
      "low      low  5more    more    small   high          good\n",
      "low      low  5more    more      med    low         unacc\n",
      "low      low  5more    more      med    med          good\n",
      "low      low  5more    more      med   high         vgood\n",
      "low      low  5more    more      big    low         unacc\n",
      "low      low  5more    more      big    med          good\n",
      "low      low  5more    more      big   high         vgood\n",
      "\n",
      "[1728 rows x 6 columns]\n"
     ]
    }
   ],
   "source": [
    "column_names = [\"maint\", \"doors\", \"persons\", \"lug_boot\", \"safety\", \"acceptability\"]\n",
    "cars = pd.read_csv('cars.data.csv', header=None, names=column_names)\n",
    "print cars"
   ]
  },
  {
   "cell_type": "code",
   "execution_count": 10,
   "metadata": {
    "collapsed": false
   },
   "outputs": [
    {
     "name": "stdout",
     "output_type": "stream",
     "text": [
      "3        432\n",
      "5more    432\n",
      "4        432\n",
      "2        432\n",
      "Name: doors, dtype: int64\n"
     ]
    }
   ],
   "source": [
    "doors = cars['doors'].value_counts()\n",
    "print doors"
   ]
  },
  {
   "cell_type": "code",
   "execution_count": 7,
   "metadata": {
    "collapsed": false
   },
   "outputs": [
    {
     "data": {
      "text/plain": [
       "<matplotlib.axes._subplots.AxesSubplot at 0x106539b90>"
      ]
     },
     "execution_count": 7,
     "metadata": {},
     "output_type": "execute_result"
    },
    {
     "data": {
      "image/png": "[encoded data removed]",
      "text/plain": [
       "<matplotlib.figure.Figure at 0x103d90d50>"
      ]
     },
     "metadata": {},
     "output_type": "display_data"
    }
   ],
   "source": [
    "doors.plot.bar()"
   ]
  },
  {
   "cell_type": "markdown",
   "metadata": {},
   "source": [
    "Plot your results from the linear regression in homework 5 and 7 (for any of the provided data sets).  The plot should include.  1) a scatter of the points in the .csv file 2) a line showing the regression line (either from the calculation in homework 5 or line-fitting from homework 7).  3) something on the plot that specifies the equation for the regression line. "
   ]
  },
  {
   "cell_type": "code",
   "execution_count": null,
   "metadata": {
    "collapsed": true
   },
   "outputs": [],
   "source": []
  },
  {
   "cell_type": "markdown",
   "metadata": {},
   "source": [
    "Create an overlay of the center points found in objects.png from homework 8.  The image should be in the background and the object centers can be small circles or points at or around the center points. "
   ]
  },
  {
   "cell_type": "code",
   "execution_count": null,
   "metadata": {
    "collapsed": true
   },
   "outputs": [],
   "source": []
  },
  {
   "cell_type": "markdown",
   "metadata": {},
   "source": [
    "Plot a line graph that shows the hour by hour change in number of server requests from the HTTP in homework 9.  The x-axis is the discrete hour intervals (e.g. 13:00 – 14:00) and the y-axis is the number of requests."
   ]
  },
  {
   "cell_type": "code",
   "execution_count": null,
   "metadata": {
    "collapsed": true
   },
   "outputs": [],
   "source": []
  },
  {
   "cell_type": "code",
   "execution_count": null,
   "metadata": {
    "collapsed": true
   },
   "outputs": [],
   "source": []
  }
 ],
 "metadata": {
  "kernelspec": {
   "display_name": "Python 2",
   "language": "python",
   "name": "python2"
  },
  "language_info": {
   "codemirror_mode": {
    "name": "ipython",
    "version": 2
   },
   "file_extension": ".py",
   "mimetype": "text/x-python",
   "name": "python",
   "nbconvert_exporter": "python",
   "pygments_lexer": "ipython2",
   "version": "2.7.10"
  }
 },
 "nbformat": 4,
 "nbformat_minor": 0
}
