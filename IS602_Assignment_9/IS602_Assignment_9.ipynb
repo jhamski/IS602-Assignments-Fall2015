{
 "metadata": {
  "name": "",
  "signature": "sha256:11edd98e2ff21f1dd9cf23ef860f93667a8dfb3af1b2d20a5fdbf20215ec45fd"
 },
 "nbformat": 3,
 "nbformat_minor": 0,
 "worksheets": [
  {
   "cells": [
    {
     "cell_type": "heading",
     "level": 1,
     "metadata": {},
     "source": [
      "Assignment 9 -- IS602 -- Jim Hamski"
     ]
    },
    {
     "cell_type": "code",
     "collapsed": false,
     "input": [
      "import pandas as pd"
     ],
     "language": "python",
     "metadata": {},
     "outputs": [],
     "prompt_number": 1
    },
    {
     "cell_type": "markdown",
     "metadata": {},
     "source": [
      "Reading in the dataset I used the 'delim_whitespace' function argument - which is completely awesome!"
     ]
    },
    {
     "cell_type": "code",
     "collapsed": false,
     "input": [
      "column_names = [\"Host\", \"Date\", \"Request\", \"Reply\", \"Bytes\"]\n",
      "df = pd.read_csv('data.txt',  delim_whitespace=True, header=None, names=column_names)"
     ],
     "language": "python",
     "metadata": {},
     "outputs": [],
     "prompt_number": 13
    },
    {
     "cell_type": "code",
     "collapsed": false,
     "input": [
      "df.head()"
     ],
     "language": "python",
     "metadata": {},
     "outputs": [
      {
       "html": [
        "<div style=\"max-height:1000px;max-width:1500px;overflow:auto;\">\n",
        "<table border=\"1\" class=\"dataframe\">\n",
        "  <thead>\n",
        "    <tr style=\"text-align: right;\">\n",
        "      <th></th>\n",
        "      <th>Host</th>\n",
        "      <th>Date</th>\n",
        "      <th>Request</th>\n",
        "      <th>Reply</th>\n",
        "      <th>Bytes</th>\n",
        "    </tr>\n",
        "  </thead>\n",
        "  <tbody>\n",
        "    <tr>\n",
        "      <th>0</th>\n",
        "      <td>           141.243.1.172</td>\n",
        "      <td> [29:23:53:25]</td>\n",
        "      <td>               GET /Software.html HTTP/1.0</td>\n",
        "      <td> 200</td>\n",
        "      <td> 1497</td>\n",
        "    </tr>\n",
        "    <tr>\n",
        "      <th>1</th>\n",
        "      <td> query2.lycos.cs.cmu.edu</td>\n",
        "      <td> [29:23:53:36]</td>\n",
        "      <td>               GET /Consumer.html HTTP/1.0</td>\n",
        "      <td> 200</td>\n",
        "      <td> 1325</td>\n",
        "    </tr>\n",
        "    <tr>\n",
        "      <th>2</th>\n",
        "      <td>        tanuki.twics.com</td>\n",
        "      <td> [29:23:53:53]</td>\n",
        "      <td>                   GET /News.html HTTP/1.0</td>\n",
        "      <td> 200</td>\n",
        "      <td> 1014</td>\n",
        "    </tr>\n",
        "    <tr>\n",
        "      <th>3</th>\n",
        "      <td>      wpbfl2-45.gate.net</td>\n",
        "      <td> [29:23:54:15]</td>\n",
        "      <td>                            GET / HTTP/1.0</td>\n",
        "      <td> 200</td>\n",
        "      <td> 4889</td>\n",
        "    </tr>\n",
        "    <tr>\n",
        "      <th>4</th>\n",
        "      <td>      wpbfl2-45.gate.net</td>\n",
        "      <td> [29:23:54:16]</td>\n",
        "      <td> GET /icons/circle_logo_small.gif HTTP/1.0</td>\n",
        "      <td> 200</td>\n",
        "      <td> 2624</td>\n",
        "    </tr>\n",
        "  </tbody>\n",
        "</table>\n",
        "</div>"
       ],
       "metadata": {},
       "output_type": "pyout",
       "prompt_number": 16,
       "text": [
        "                      Host           Date  \\\n",
        "0            141.243.1.172  [29:23:53:25]   \n",
        "1  query2.lycos.cs.cmu.edu  [29:23:53:36]   \n",
        "2         tanuki.twics.com  [29:23:53:53]   \n",
        "3       wpbfl2-45.gate.net  [29:23:54:15]   \n",
        "4       wpbfl2-45.gate.net  [29:23:54:16]   \n",
        "\n",
        "                                     Request Reply Bytes  \n",
        "0                GET /Software.html HTTP/1.0   200  1497  \n",
        "1                GET /Consumer.html HTTP/1.0   200  1325  \n",
        "2                    GET /News.html HTTP/1.0   200  1014  \n",
        "3                             GET / HTTP/1.0   200  4889  \n",
        "4  GET /icons/circle_logo_small.gif HTTP/1.0   200  2624  "
       ]
      }
     ],
     "prompt_number": 16
    },
    {
     "cell_type": "markdown",
     "metadata": {},
     "source": [
      "*Which hostname or IP address made the most requests?*"
     ]
    },
    {
     "cell_type": "code",
     "collapsed": false,
     "input": [
      "df_grouped = df.groupby('Host').sum()\n",
      "df_grouped.head()"
     ],
     "language": "python",
     "metadata": {},
     "outputs": [
      {
       "html": [
        "<div style=\"max-height:1000px;max-width:1500px;overflow:auto;\">\n",
        "<table border=\"1\" class=\"dataframe\">\n",
        "  <thead>\n",
        "    <tr style=\"text-align: right;\">\n",
        "      <th></th>\n",
        "      <th>Date</th>\n",
        "      <th>Request</th>\n",
        "      <th>Reply</th>\n",
        "      <th>Bytes</th>\n",
        "    </tr>\n",
        "    <tr>\n",
        "      <th>Host</th>\n",
        "      <th></th>\n",
        "      <th></th>\n",
        "      <th></th>\n",
        "      <th></th>\n",
        "    </tr>\n",
        "  </thead>\n",
        "  <tbody>\n",
        "    <tr>\n",
        "      <th>108.145.internal.radian.com</th>\n",
        "      <td>                                     [30:16:03:45]</td>\n",
        "      <td>                     GET /transportation/ HTTP/1.0</td>\n",
        "      <td>                                               200</td>\n",
        "      <td>                                               738</td>\n",
        "    </tr>\n",
        "    <tr>\n",
        "      <th>128.104.66.114</th>\n",
        "      <td>                                     [30:12:26:42]</td>\n",
        "      <td>                                    GET / HTTP/1.0</td>\n",
        "      <td>                                               200</td>\n",
        "      <td>                                              4889</td>\n",
        "    </tr>\n",
        "    <tr>\n",
        "      <th>128.120.125.246</th>\n",
        "      <td> [30:13:56:11][30:13:56:12][30:13:56:13][30:13:...</td>\n",
        "      <td> GET / HTTP/1.0GET /icons/circle_logo_small.gif...</td>\n",
        "      <td>                                   200200200200200</td>\n",
        "      <td>                                488826241249352788</td>\n",
        "    </tr>\n",
        "    <tr>\n",
        "      <th>128.120.153.224</th>\n",
        "      <td> [30:18:29:58][30:18:29:59][30:18:30:02][30:18:...</td>\n",
        "      <td> GET / HTTP/1.0GET /icons/circle_logo_small.gif...</td>\n",
        "      <td> 2003043043043043042002002003042002002002002002...</td>\n",
        "      <td> 4950000002312373500094923735005279491497383743...</td>\n",
        "    </tr>\n",
        "    <tr>\n",
        "      <th>128.120.5.70</th>\n",
        "      <td>                        [30:13:52:45][30:13:52:46]</td>\n",
        "      <td> GET /docs/GCDOAR/ruminant.html HTTP/1.0GET /do...</td>\n",
        "      <td>                                            304304</td>\n",
        "      <td>                                                00</td>\n",
        "    </tr>\n",
        "  </tbody>\n",
        "</table>\n",
        "</div>"
       ],
       "metadata": {},
       "output_type": "pyout",
       "prompt_number": 21,
       "text": [
        "                                                                          Date  \\\n",
        "Host                                                                             \n",
        "108.145.internal.radian.com                                      [30:16:03:45]   \n",
        "128.104.66.114                                                   [30:12:26:42]   \n",
        "128.120.125.246              [30:13:56:11][30:13:56:12][30:13:56:13][30:13:...   \n",
        "128.120.153.224              [30:18:29:58][30:18:29:59][30:18:30:02][30:18:...   \n",
        "128.120.5.70                                        [30:13:52:45][30:13:52:46]   \n",
        "\n",
        "                                                                       Request  \\\n",
        "Host                                                                             \n",
        "108.145.internal.radian.com                      GET /transportation/ HTTP/1.0   \n",
        "128.104.66.114                                                  GET / HTTP/1.0   \n",
        "128.120.125.246              GET / HTTP/1.0GET /icons/circle_logo_small.gif...   \n",
        "128.120.153.224              GET / HTTP/1.0GET /icons/circle_logo_small.gif...   \n",
        "128.120.5.70                 GET /docs/GCDOAR/ruminant.html HTTP/1.0GET /do...   \n",
        "\n",
        "                                                                         Reply  \\\n",
        "Host                                                                             \n",
        "108.145.internal.radian.com                                                200   \n",
        "128.104.66.114                                                             200   \n",
        "128.120.125.246                                                200200200200200   \n",
        "128.120.153.224              2003043043043043042002002003042002002002002002...   \n",
        "128.120.5.70                                                            304304   \n",
        "\n",
        "                                                                         Bytes  \n",
        "Host                                                                            \n",
        "108.145.internal.radian.com                                                738  \n",
        "128.104.66.114                                                            4889  \n",
        "128.120.125.246                                             488826241249352788  \n",
        "128.120.153.224              4950000002312373500094923735005279491497383743...  \n",
        "128.120.5.70                                                                00  "
       ]
      }
     ],
     "prompt_number": 21
    },
    {
     "cell_type": "markdown",
     "metadata": {},
     "source": [
      "*Which hostname or IP address received the most total bytes from the server?*"
     ]
    },
    {
     "cell_type": "code",
     "collapsed": false,
     "input": [],
     "language": "python",
     "metadata": {},
     "outputs": [],
     "prompt_number": 13
    },
    {
     "cell_type": "markdown",
     "metadata": {},
     "source": [
      "*How many bytes did it receive?*"
     ]
    },
    {
     "cell_type": "code",
     "collapsed": false,
     "input": [],
     "language": "python",
     "metadata": {},
     "outputs": [],
     "prompt_number": 13
    },
    {
     "cell_type": "markdown",
     "metadata": {},
     "source": [
      "*During what hour was the server the busiest in terms of requests?  (You can do this by grouping each hour period e.g. 13:00 \u2013 14:00. Then count the number of requests in each hour)*"
     ]
    },
    {
     "cell_type": "code",
     "collapsed": false,
     "input": [],
     "language": "python",
     "metadata": {},
     "outputs": [],
     "prompt_number": 13
    },
    {
     "cell_type": "markdown",
     "metadata": {},
     "source": [
      "*Which .gif image was downloaded the most during the day?*"
     ]
    },
    {
     "cell_type": "code",
     "collapsed": false,
     "input": [],
     "language": "python",
     "metadata": {},
     "outputs": [],
     "prompt_number": 13
    },
    {
     "cell_type": "markdown",
     "metadata": {},
     "source": [
      "*What HTTP reply codes were sent other than 200?*"
     ]
    },
    {
     "cell_type": "code",
     "collapsed": false,
     "input": [],
     "language": "python",
     "metadata": {},
     "outputs": []
    }
   ],
   "metadata": {}
  }
 ]
}