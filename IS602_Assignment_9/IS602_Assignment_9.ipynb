{
 "cells": [
  {
   "cell_type": "markdown",
   "metadata": {},
   "source": [
    "# Assignment 9 -- IS602 -- Jim Hamski"
   ]
  },
  {
   "cell_type": "code",
   "execution_count": 84,
   "metadata": {
    "collapsed": false
   },
   "outputs": [],
   "source": [
    "import pandas as pd\n",
    "import numpy as np"
   ]
  },
  {
   "cell_type": "markdown",
   "metadata": {},
   "source": [
    "Reading in the dataset I used the 'delim_whitespace' function argument - which smart enough to handle the quotes!"
   ]
  },
  {
   "cell_type": "code",
   "execution_count": 85,
   "metadata": {
    "collapsed": false
   },
   "outputs": [],
   "source": [
    "column_names = [\"Host\", \"Date\", \"Request\", \"Reply\", \"Bytes\"]\n",
    "df = pd.read_csv('data.txt',  delim_whitespace=True, header=None, names=column_names, engine='c')"
   ]
  },
  {
   "cell_type": "code",
   "execution_count": 86,
   "metadata": {
    "collapsed": false
   },
   "outputs": [
    {
     "data": {
      "text/html": [
       "<div>\n",
       "<table border=\"1\" class=\"dataframe\">\n",
       "  <thead>\n",
       "    <tr style=\"text-align: right;\">\n",
       "      <th></th>\n",
       "      <th>Host</th>\n",
       "      <th>Date</th>\n",
       "      <th>Request</th>\n",
       "      <th>Reply</th>\n",
       "      <th>Bytes</th>\n",
       "    </tr>\n",
       "  </thead>\n",
       "  <tbody>\n",
       "    <tr>\n",
       "      <th>0</th>\n",
       "      <td>141.243.1.172</td>\n",
       "      <td>[29:23:53:25]</td>\n",
       "      <td>GET /Software.html HTTP/1.0</td>\n",
       "      <td>200</td>\n",
       "      <td>1497</td>\n",
       "    </tr>\n",
       "    <tr>\n",
       "      <th>1</th>\n",
       "      <td>query2.lycos.cs.cmu.edu</td>\n",
       "      <td>[29:23:53:36]</td>\n",
       "      <td>GET /Consumer.html HTTP/1.0</td>\n",
       "      <td>200</td>\n",
       "      <td>1325</td>\n",
       "    </tr>\n",
       "    <tr>\n",
       "      <th>2</th>\n",
       "      <td>tanuki.twics.com</td>\n",
       "      <td>[29:23:53:53]</td>\n",
       "      <td>GET /News.html HTTP/1.0</td>\n",
       "      <td>200</td>\n",
       "      <td>1014</td>\n",
       "    </tr>\n",
       "    <tr>\n",
       "      <th>3</th>\n",
       "      <td>wpbfl2-45.gate.net</td>\n",
       "      <td>[29:23:54:15]</td>\n",
       "      <td>GET / HTTP/1.0</td>\n",
       "      <td>200</td>\n",
       "      <td>4889</td>\n",
       "    </tr>\n",
       "    <tr>\n",
       "      <th>4</th>\n",
       "      <td>wpbfl2-45.gate.net</td>\n",
       "      <td>[29:23:54:16]</td>\n",
       "      <td>GET /icons/circle_logo_small.gif HTTP/1.0</td>\n",
       "      <td>200</td>\n",
       "      <td>2624</td>\n",
       "    </tr>\n",
       "  </tbody>\n",
       "</table>\n",
       "</div>"
      ],
      "text/plain": [
       "                      Host           Date  \\\n",
       "0            141.243.1.172  [29:23:53:25]   \n",
       "1  query2.lycos.cs.cmu.edu  [29:23:53:36]   \n",
       "2         tanuki.twics.com  [29:23:53:53]   \n",
       "3       wpbfl2-45.gate.net  [29:23:54:15]   \n",
       "4       wpbfl2-45.gate.net  [29:23:54:16]   \n",
       "\n",
       "                                     Request Reply Bytes  \n",
       "0                GET /Software.html HTTP/1.0   200  1497  \n",
       "1                GET /Consumer.html HTTP/1.0   200  1325  \n",
       "2                    GET /News.html HTTP/1.0   200  1014  \n",
       "3                             GET / HTTP/1.0   200  4889  \n",
       "4  GET /icons/circle_logo_small.gif HTTP/1.0   200  2624  "
      ]
     },
     "execution_count": 86,
     "metadata": {},
     "output_type": "execute_result"
    }
   ],
   "source": [
    "df.head()\n"
   ]
  },
  {
   "cell_type": "code",
   "execution_count": 87,
   "metadata": {
    "collapsed": false
   },
   "outputs": [],
   "source": [
    "df['Bytes'] = pd.to_numeric(df['Bytes'], errors='coerce')"
   ]
  },
  {
   "cell_type": "code",
   "execution_count": 88,
   "metadata": {
    "collapsed": false
   },
   "outputs": [
    {
     "name": "stdout",
     "output_type": "stream",
     "text": [
      "Host        object\n",
      "Date        object\n",
      "Request     object\n",
      "Reply       object\n",
      "Bytes      float64\n",
      "dtype: object\n"
     ]
    }
   ],
   "source": [
    "df['Date'] = df['Date'].astype(str)\n",
    "print df.dtypes"
   ]
  },
  {
   "cell_type": "code",
   "execution_count": 79,
   "metadata": {
    "collapsed": true
   },
   "outputs": [],
   "source": [
    "df['Date'] = pd.to_datetime(df['Date'], errors='coerce')"
   ]
  },
  {
   "cell_type": "code",
   "execution_count": 89,
   "metadata": {
    "collapsed": false
   },
   "outputs": [
    {
     "data": {
      "text/plain": [
       "0        [29:23:53:25]\n",
       "1        [29:23:53:36]\n",
       "2        [29:23:53:53]\n",
       "3        [29:23:54:15]\n",
       "4        [29:23:54:16]\n",
       "5        [29:23:54:18]\n",
       "6        [29:23:54:19]\n",
       "7        [29:23:54:19]\n",
       "8        [29:23:54:19]\n",
       "9        [29:23:54:19]\n",
       "10       [29:23:54:19]\n",
       "11       [29:23:54:20]\n",
       "12       [29:23:54:25]\n",
       "13       [29:23:54:37]\n",
       "14       [29:23:54:37]\n",
       "15       [29:23:54:40]\n",
       "16       [29:23:55:01]\n",
       "17       [29:23:55:21]\n",
       "18       [29:23:55:23]\n",
       "19       [29:23:55:29]\n",
       "20       [29:23:55:33]\n",
       "21       [29:23:55:46]\n",
       "22       [29:23:55:47]\n",
       "23       [29:23:56:03]\n",
       "24       [29:23:56:12]\n",
       "25       [29:23:56:14]\n",
       "26       [29:23:56:24]\n",
       "27       [29:23:56:36]\n",
       "28       [29:23:57:05]\n",
       "29       [29:23:57:06]\n",
       "             ...      \n",
       "47718    [30:23:51:30]\n",
       "47719    [30:23:51:30]\n",
       "47720    [30:23:51:31]\n",
       "47721    [30:23:51:31]\n",
       "47722    [30:23:51:31]\n",
       "47723    [30:23:51:35]\n",
       "47724    [30:23:51:41]\n",
       "47725    [30:23:51:46]\n",
       "47726    [30:23:51:54]\n",
       "47727    [30:23:51:56]\n",
       "47728    [30:23:51:57]\n",
       "47729    [30:23:51:59]\n",
       "47730    [30:23:52:00]\n",
       "47731    [30:23:52:06]\n",
       "47732    [30:23:52:08]\n",
       "47733    [30:23:52:10]\n",
       "47734    [30:23:52:12]\n",
       "47735    [30:23:52:15]\n",
       "47736    [30:23:52:21]\n",
       "47737    [30:23:52:39]\n",
       "47738    [30:23:52:42]\n",
       "47739    [30:23:52:42]\n",
       "47740    [30:23:52:43]\n",
       "47741    [30:23:52:43]\n",
       "47742    [30:23:52:44]\n",
       "47743    [30:23:52:44]\n",
       "47744    [30:23:52:44]\n",
       "47745    [30:23:52:45]\n",
       "47746    [30:23:53:06]\n",
       "47747    [30:23:53:07]\n",
       "Name: Date, dtype: object"
      ]
     },
     "execution_count": 89,
     "metadata": {},
     "output_type": "execute_result"
    }
   ],
   "source": [
    "df['Date']"
   ]
  },
  {
   "cell_type": "code",
   "execution_count": 80,
   "metadata": {
    "collapsed": false
   },
   "outputs": [
    {
     "data": {
      "text/plain": [
       "Host               object\n",
       "Date       datetime64[ns]\n",
       "Request            object\n",
       "Reply              object\n",
       "Bytes             float64\n",
       "dtype: object"
      ]
     },
     "execution_count": 80,
     "metadata": {},
     "output_type": "execute_result"
    }
   ],
   "source": [
    "df.dtypes"
   ]
  },
  {
   "cell_type": "markdown",
   "metadata": {},
   "source": [
    "*Which hostname or IP address made the most requests?*"
   ]
  },
  {
   "cell_type": "code",
   "execution_count": 62,
   "metadata": {
    "collapsed": false
   },
   "outputs": [
    {
     "name": "stdout",
     "output_type": "stream",
     "text": [
      "sandy.rtptok1.epa.gov    294\n",
      "Name: Host, dtype: int64\n"
     ]
    }
   ],
   "source": [
    "host_series = df.ix[:,0]\n",
    "print host_series.value_counts().head(1)"
   ]
  },
  {
   "cell_type": "markdown",
   "metadata": {},
   "source": [
    "*Which hostname or IP address received the most total bytes from the server? How many bytes did it receive?*"
   ]
  },
  {
   "cell_type": "code",
   "execution_count": 63,
   "metadata": {
    "collapsed": false
   },
   "outputs": [
    {
     "name": "stdout",
     "output_type": "stream",
     "text": [
      "                           Bytes\n",
      "Host                            \n",
      "piankhi.cs.hamptonu.edu  7267751\n"
     ]
    }
   ],
   "source": [
    "df_BytesRecieved = df.loc[:,['Host','Bytes']].groupby('Host').sum().sort_values('Bytes', ascending=False).head(1)\n",
    "print df_BytesRecieved"
   ]
  },
  {
   "cell_type": "markdown",
   "metadata": {},
   "source": [
    "*During what hour was the server the busiest in terms of requests?  (You can do this by grouping each hour period e.g. 13:00 – 14:00. Then count the number of requests in each hour)*"
   ]
  },
  {
   "cell_type": "code",
   "execution_count": 64,
   "metadata": {
    "collapsed": false
   },
   "outputs": [
    {
     "data": {
      "text/plain": [
       "0       NaT\n",
       "1       NaT\n",
       "2       NaT\n",
       "3       NaT\n",
       "4       NaT\n",
       "5       NaT\n",
       "6       NaT\n",
       "7       NaT\n",
       "8       NaT\n",
       "9       NaT\n",
       "10      NaT\n",
       "11      NaT\n",
       "12      NaT\n",
       "13      NaT\n",
       "14      NaT\n",
       "15      NaT\n",
       "16      NaT\n",
       "17      NaT\n",
       "18      NaT\n",
       "19      NaT\n",
       "20      NaT\n",
       "21      NaT\n",
       "22      NaT\n",
       "23      NaT\n",
       "24      NaT\n",
       "25      NaT\n",
       "26      NaT\n",
       "27      NaT\n",
       "28      NaT\n",
       "29      NaT\n",
       "         ..\n",
       "47718   NaT\n",
       "47719   NaT\n",
       "47720   NaT\n",
       "47721   NaT\n",
       "47722   NaT\n",
       "47723   NaT\n",
       "47724   NaT\n",
       "47725   NaT\n",
       "47726   NaT\n",
       "47727   NaT\n",
       "47728   NaT\n",
       "47729   NaT\n",
       "47730   NaT\n",
       "47731   NaT\n",
       "47732   NaT\n",
       "47733   NaT\n",
       "47734   NaT\n",
       "47735   NaT\n",
       "47736   NaT\n",
       "47737   NaT\n",
       "47738   NaT\n",
       "47739   NaT\n",
       "47740   NaT\n",
       "47741   NaT\n",
       "47742   NaT\n",
       "47743   NaT\n",
       "47744   NaT\n",
       "47745   NaT\n",
       "47746   NaT\n",
       "47747   NaT\n",
       "Name: Date, dtype: datetime64[ns]"
      ]
     },
     "execution_count": 64,
     "metadata": {},
     "output_type": "execute_result"
    }
   ],
   "source": [
    "df.Date"
   ]
  },
  {
   "cell_type": "markdown",
   "metadata": {},
   "source": [
    "*Which .gif image was downloaded the most during the day?*"
   ]
  },
  {
   "cell_type": "code",
   "execution_count": 13,
   "metadata": {
    "collapsed": false
   },
   "outputs": [],
   "source": []
  },
  {
   "cell_type": "markdown",
   "metadata": {},
   "source": [
    "*What HTTP reply codes were sent other than 200?*"
   ]
  },
  {
   "cell_type": "code",
   "execution_count": 96,
   "metadata": {
    "collapsed": false
   },
   "outputs": [
    {
     "name": "stdout",
     "output_type": "stream",
     "text": [
      "['200' '302' '304' '404' '403' '501' 'HTTP/1.0\"' '500' '400']\n"
     ]
    }
   ],
   "source": [
    "print df['Reply'].unique()"
   ]
  },
  {
   "cell_type": "code",
   "execution_count": 99,
   "metadata": {
    "collapsed": false
   },
   "outputs": [
    {
     "ename": "AttributeError",
     "evalue": "'DataFrame' object has no attribute 'sort_values'",
     "output_type": "error",
     "traceback": [
      "\u001b[0;31m---------------------------------------------------------------------------\u001b[0m\n\u001b[0;31mAttributeError\u001b[0m                            Traceback (most recent call last)",
      "\u001b[0;32m<ipython-input-99-5f62824c9103>\u001b[0m in \u001b[0;36m<module>\u001b[0;34m()\u001b[0m\n\u001b[1;32m      1\u001b[0m \u001b[0mdates\u001b[0m \u001b[0;34m=\u001b[0m \u001b[0mpd\u001b[0m\u001b[0;34m.\u001b[0m\u001b[0mdate_range\u001b[0m\u001b[0;34m(\u001b[0m\u001b[0;34m'20130101'\u001b[0m\u001b[0;34m,\u001b[0m \u001b[0mperiods\u001b[0m\u001b[0;34m=\u001b[0m\u001b[0;36m6\u001b[0m\u001b[0;34m)\u001b[0m\u001b[0;34m\u001b[0m\u001b[0m\n\u001b[1;32m      2\u001b[0m \u001b[0mdf\u001b[0m \u001b[0;34m=\u001b[0m \u001b[0mpd\u001b[0m\u001b[0;34m.\u001b[0m\u001b[0mDataFrame\u001b[0m\u001b[0;34m(\u001b[0m\u001b[0mnp\u001b[0m\u001b[0;34m.\u001b[0m\u001b[0mrandom\u001b[0m\u001b[0;34m.\u001b[0m\u001b[0mrandn\u001b[0m\u001b[0;34m(\u001b[0m\u001b[0;36m6\u001b[0m\u001b[0;34m,\u001b[0m\u001b[0;36m4\u001b[0m\u001b[0;34m)\u001b[0m\u001b[0;34m,\u001b[0m \u001b[0mindex\u001b[0m\u001b[0;34m=\u001b[0m\u001b[0mdates\u001b[0m\u001b[0;34m,\u001b[0m \u001b[0mcolumns\u001b[0m\u001b[0;34m=\u001b[0m\u001b[0mlist\u001b[0m\u001b[0;34m(\u001b[0m\u001b[0;34m'ABCD'\u001b[0m\u001b[0;34m)\u001b[0m\u001b[0;34m)\u001b[0m\u001b[0;34m\u001b[0m\u001b[0m\n\u001b[0;32m----> 3\u001b[0;31m \u001b[0mdf\u001b[0m\u001b[0;34m.\u001b[0m\u001b[0msort_values\u001b[0m\u001b[0;34m(\u001b[0m\u001b[0mby\u001b[0m\u001b[0;34m=\u001b[0m\u001b[0;34m'B'\u001b[0m\u001b[0;34m)\u001b[0m\u001b[0;34m\u001b[0m\u001b[0m\n\u001b[0m",
      "\u001b[0;32m/Users/jim/anaconda/lib/python2.7/site-packages/pandas/core/generic.pyc\u001b[0m in \u001b[0;36m__getattr__\u001b[0;34m(self, name)\u001b[0m\n\u001b[1;32m   1841\u001b[0m                 \u001b[0;32mreturn\u001b[0m \u001b[0mself\u001b[0m\u001b[0;34m[\u001b[0m\u001b[0mname\u001b[0m\u001b[0;34m]\u001b[0m\u001b[0;34m\u001b[0m\u001b[0m\n\u001b[1;32m   1842\u001b[0m             raise AttributeError(\"'%s' object has no attribute '%s'\" %\n\u001b[0;32m-> 1843\u001b[0;31m                                  (type(self).__name__, name))\n\u001b[0m\u001b[1;32m   1844\u001b[0m \u001b[0;34m\u001b[0m\u001b[0m\n\u001b[1;32m   1845\u001b[0m     \u001b[0;32mdef\u001b[0m \u001b[0m__setattr__\u001b[0m\u001b[0;34m(\u001b[0m\u001b[0mself\u001b[0m\u001b[0;34m,\u001b[0m \u001b[0mname\u001b[0m\u001b[0;34m,\u001b[0m \u001b[0mvalue\u001b[0m\u001b[0;34m)\u001b[0m\u001b[0;34m:\u001b[0m\u001b[0;34m\u001b[0m\u001b[0m\n",
      "\u001b[0;31mAttributeError\u001b[0m: 'DataFrame' object has no attribute 'sort_values'"
     ]
    }
   ],
   "source": [
    "dates = pd.date_range('20130101', periods=6)\n",
    "df = pd.DataFrame(np.random.randn(6,4), index=dates, columns=list('ABCD'))\n",
    "df.sort_values(by='B')"
   ]
  },
  {
   "cell_type": "code",
   "execution_count": null,
   "metadata": {
    "collapsed": false
   },
   "outputs": [],
   "source": []
  }
 ],
 "metadata": {
  "kernelspec": {
   "display_name": "Python 2",
   "language": "python",
   "name": "python2"
  },
  "language_info": {
   "codemirror_mode": {
    "name": "ipython",
    "version": 2
   },
   "file_extension": ".py",
   "mimetype": "text/x-python",
   "name": "python",
   "nbconvert_exporter": "python",
   "pygments_lexer": "ipython2",
   "version": "2.7.10"
  }
 },
 "nbformat": 4,
 "nbformat_minor": 0
}
